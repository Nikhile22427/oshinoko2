{
 "cells": [
  {
   "cell_type": "markdown",
   "id": "2410ff16",
   "metadata": {},
   "source": [
    "## Stuff I Did This Trimester"
   ]
  },
  {
   "cell_type": "markdown",
   "id": "cc27d5d8",
   "metadata": {},
   "source": [
    "..definitely not nothing..."
   ]
  },
  {
   "cell_type": "markdown",
   "id": "917b91b6",
   "metadata": {},
   "source": [
    "### A small overview of my role in the team\n",
    "- Lead morale increaser\n",
    "- Documenter\n",
    "- Bugfixer\n",
    "- Lead artist (background)"
   ]
  },
  {
   "cell_type": "markdown",
   "id": "a1c2465b",
   "metadata": {},
   "source": [
    "## Two Player"
   ]
  },
  {
   "cell_type": "markdown",
   "id": "e885f1d9",
   "metadata": {},
   "source": [
    "- created 1st and 2nd versions of the final fix that enabled two player\n",
    "- setup sprites for use"
   ]
  },
  {
   "cell_type": "markdown",
   "id": "517846b6",
   "metadata": {},
   "source": [
    "## Documentation"
   ]
  },
  {
   "cell_type": "markdown",
   "id": "fb9d3f74",
   "metadata": {},
   "source": [
    "- I was on the \"notebook creating\" sub-team\n",
    "- Assisted Jim in creating lesson notebooks for our API and two-player lessons\n",
    "- Created documentation of our changes to the adventure game using <b><i>Tailwind CSS<i><b>"
   ]
  },
  {
   "cell_type": "markdown",
   "id": "c466f407",
   "metadata": {},
   "source": [
    "## Debugging"
   ]
  },
  {
   "cell_type": "markdown",
   "id": "42487f42",
   "metadata": {},
   "source": [
    "- Debugging is something that nobody wants to do\n",
    "- And so naturally I learned how to interpret these alien error messages\n",
    "- I eventually found it easier to look at the errors, use the debugger, and comb through files myself rather than ask any LLM"
   ]
  },
  {
   "cell_type": "markdown",
   "id": "a4c80540",
   "metadata": {},
   "source": [
    "- However, I still have much to learn (this breakpoint stuff confuses me)"
   ]
  },
  {
   "cell_type": "markdown",
   "id": "189c5da6",
   "metadata": {},
   "source": [
    "## Unrelated things"
   ]
  },
  {
   "cell_type": "markdown",
   "id": "f8024921",
   "metadata": {},
   "source": [
    "- Worked on a passion project not using JS\n",
    "- Used YOLO for object detection and wrote a python file that would interpret these detections and display them on the screen.\n",
    "- It would also display and output coordinates for use with some kind of grabbing apparatus (didn't get to this part b/c it would cost a lot to build a robot arm)\n"
   ]
  },
  {
   "cell_type": "markdown",
   "id": "780e3927",
   "metadata": {},
   "source": [
    "## Unrelated things 2"
   ]
  },
  {
   "cell_type": "markdown",
   "id": "81d9fa14",
   "metadata": {},
   "source": [
    "- gained appreciation for game devs (man this coding stuff is hard)\n",
    "- gained appreciation for artists (man this drawing stuff is hard)"
   ]
  }
 ],
 "metadata": {
  "language_info": {
   "name": "python"
  }
 },
 "nbformat": 4,
 "nbformat_minor": 5
}
